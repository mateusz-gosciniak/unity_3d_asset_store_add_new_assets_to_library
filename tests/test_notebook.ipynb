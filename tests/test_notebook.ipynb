{
 "cells": [
  {
   "cell_type": "markdown",
   "metadata": {},
   "source": [
    "Imports"
   ]
  },
  {
   "cell_type": "code",
   "execution_count": null,
   "metadata": {},
   "outputs": [],
   "source": [
    "# lib reloading\n",
    "%load_ext autoreload\n",
    "%reload_ext autoreload\n",
    "%autoreload 2\n",
    "\n",
    "# python standard packages\n",
    "import logging\n",
    "import re\n",
    "import time\n",
    "\n",
    "# third-party packages\n",
    "import keyring\n",
    "from selenium.webdriver.support.select import NoSuchElementException\n",
    "from selenium.webdriver.support.wait import WebDriverWait\n",
    "from selenium.webdriver.support import expected_conditions as EC\n",
    "from selenium.webdriver.common.action_chains import ActionChains\n",
    "from selenium.webdriver.common.keys import Keys\n",
    "from selenium.webdriver.common.by import By\n",
    "from selenium.webdriver.remote.webelement import WebElement\n",
    "\n",
    "# in project packages\n",
    "import os\n",
    "import sys\n",
    "from pathlib import Path\n",
    "sys.path.append(str(Path(os.getcwd()).parent))  # add parent folder to paths\n",
    "from utilities.asset_store_wrapper import AssetStoreWrapper, AssetStoreAssetButtonError\n",
    "from project_settings import ProjectSettings\n",
    "\n",
    "# keyring needed to be setup earlier\n",
    "# keyring.set_password(\"credential_name\", \"user_name\", \"password\")\n",
    "# or\n",
    "# add manualy in windows credential manager in generic credential section\n",
    "\n",
    "# logging configuration\n",
    "logging.basicConfig(level=logging.INFO, format='%(asctime)s - %(levelname)s - %(message)s')"
   ]
  },
  {
   "cell_type": "markdown",
   "metadata": {},
   "source": [
    "Asset Store Login and go to assets page"
   ]
  },
  {
   "cell_type": "code",
   "execution_count": null,
   "metadata": {},
   "outputs": [],
   "source": [
    "asset_store = AssetStoreWrapper()\n",
    "asset_store.login_to_asset_store((ProjectSettings.UNITY_CREDENTIALS_NAME, ProjectSettings.UNITY_CREDENTIALS_EMAIL))\n",
    "asset_store.open_free_not_added_assets()\n",
    "assets = asset_store.get_assets_from_page_as_collection()"
   ]
  },
  {
   "cell_type": "markdown",
   "metadata": {},
   "source": [
    "Do something with assets in case of tests"
   ]
  },
  {
   "cell_type": "code",
   "execution_count": null,
   "metadata": {},
   "outputs": [],
   "source": [
    "for asset in assets:\n",
    "    logging.info(';'.join(asset.text.split('\\n')))  # convert to csv line"
   ]
  },
  {
   "cell_type": "markdown",
   "metadata": {},
   "source": [
    "Close"
   ]
  },
  {
   "cell_type": "code",
   "execution_count": null,
   "metadata": {},
   "outputs": [],
   "source": [
    "asset_store.chrome.quit()"
   ]
  }
 ],
 "metadata": {
  "kernelspec": {
   "display_name": ".venv_py3120_64",
   "language": "python",
   "name": "python3"
  },
  "language_info": {
   "codemirror_mode": {
    "name": "ipython",
    "version": 3
   },
   "file_extension": ".py",
   "mimetype": "text/x-python",
   "name": "python",
   "nbconvert_exporter": "python",
   "pygments_lexer": "ipython3",
   "version": "3.12.0"
  }
 },
 "nbformat": 4,
 "nbformat_minor": 2
}
