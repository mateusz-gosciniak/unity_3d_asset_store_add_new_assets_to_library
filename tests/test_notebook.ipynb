{
 "cells": [
  {
   "cell_type": "code",
   "execution_count": null,
   "metadata": {},
   "outputs": [],
   "source": [
    "# lib reloading\n",
    "%load_ext autoreload\n",
    "%reload_ext autoreload\n",
    "%autoreload 2"
   ]
  },
  {
   "cell_type": "code",
   "execution_count": null,
   "metadata": {},
   "outputs": [],
   "source": [
    "# python standard packages\n",
    "import logging \n",
    "import os\n",
    "import sys\n",
    "from pathlib import Path\n",
    "\n",
    "# third-party packages\n",
    "import keyring\n",
    "from bs4 import BeautifulSoup\n",
    "from selenium.webdriver.common.by import By\n",
    "from selenium.webdriver.support.wait import WebDriverWait\n",
    "from selenium.webdriver.support import expected_conditions as EC\n",
    "\n",
    "# in project packages\n",
    "sys.path.append(str(Path(os.getcwd()).parent))  # add parent folder to paths\n",
    "from utilities.chrome_driver import ChromeDriver\n",
    "\n",
    "# logging configuration\n",
    "logging.basicConfig(level=logging.INFO, format='%(asctime)s - %(levelname)s - %(message)s')\n",
    "\n",
    "# project constants\n",
    "ELEMENT_TIMEOUT = 2  # [s]\n",
    "\n",
    "# needed to be setup earlier\n",
    "# keyring.set_password(\"credential_name\", \"user_name\", \"password\")\n",
    "UNITY_CREDENTIALS = (\"unity_id_cred\", \"email_address\")"
   ]
  },
  {
   "cell_type": "code",
   "execution_count": null,
   "metadata": {},
   "outputs": [],
   "source": [
    "chrome_driver = ChromeDriver().chrome_driver\n",
    "selenium_waiter = WebDriverWait(chrome_driver, timeout=ELEMENT_TIMEOUT)\n",
    "chrome_driver.get(\"https://assetstore.unity.com/\")\n",
    "logging.info(\"Asset Store open\")"
   ]
  },
  {
   "cell_type": "code",
   "execution_count": null,
   "metadata": {},
   "outputs": [],
   "source": [
    "accept_all_cookies_btn = chrome_driver.find_element(By.ID, \"onetrust-accept-btn-handler\")\n",
    "selenium_waiter.until(EC.element_to_be_clickable(accept_all_cookies_btn))\n",
    "accept_all_cookies_btn.click()\n",
    "logging.info(\"Cookies Accepted\")"
   ]
  },
  {
   "cell_type": "code",
   "execution_count": null,
   "metadata": {},
   "outputs": [],
   "source": [
    "chrome_driver.get(\"https://assetstore.unity.com/auth/login?redirect_to=%2F\")\n",
    "login_page = chrome_driver.current_url"
   ]
  },
  {
   "cell_type": "code",
   "execution_count": null,
   "metadata": {},
   "outputs": [],
   "source": [
    "# write email\n",
    "email_field = chrome_driver.find_element(By.ID, \"conversations_create_session_form_email\")\n",
    "selenium_waiter.until(EC.element_to_be_clickable(email_field))\n",
    "email_field.send_keys(UNITY_CREDENTIALS[1])"
   ]
  },
  {
   "cell_type": "code",
   "execution_count": null,
   "metadata": {},
   "outputs": [],
   "source": [
    "# write password\n",
    "password_field = chrome_driver.find_element(By.ID, \"conversations_create_session_form_password\")\n",
    "selenium_waiter.until(EC.element_to_be_clickable(password_field))\n",
    "password_field.send_keys(keyring.get_password(*UNITY_CREDENTIALS))"
   ]
  },
  {
   "cell_type": "code",
   "execution_count": null,
   "metadata": {},
   "outputs": [],
   "source": [
    "# click submit\n",
    "submit_btn = chrome_driver.find_element(By.XPATH, \"//input[@type='submit']\")\n",
    "selenium_waiter.until(EC.element_to_be_clickable(submit_btn))\n",
    "submit_btn.click()"
   ]
  },
  {
   "cell_type": "code",
   "execution_count": null,
   "metadata": {},
   "outputs": [],
   "source": [
    "# check if proper page and credentials are ok\n",
    "page = chrome_driver.page_source\n",
    "page_soup = BeautifulSoup(page, \"html.parser\")\n",
    "unity_asset_store_desc = \"Unity Asset Store - The Best Assets\"\n",
    "if not unity_asset_store_desc in page_soup.text:\n",
    "    if chrome_driver.current_url == login_page:\n",
    "        raise Exception(\"Bad Credentials\")\n",
    "    else:\n",
    "        raise Exception(\"Wrong Page obtained after login, maybe 2FA enabled?\")"
   ]
  },
  {
   "cell_type": "code",
   "execution_count": null,
   "metadata": {},
   "outputs": [],
   "source": [
    "# go to proper adress url with query url"
   ]
  },
  {
   "cell_type": "code",
   "execution_count": null,
   "metadata": {},
   "outputs": [],
   "source": [
    "chrome_driver.quit()"
   ]
  },
  {
   "cell_type": "code",
   "execution_count": null,
   "metadata": {},
   "outputs": [],
   "source": []
  }
 ],
 "metadata": {
  "kernelspec": {
   "display_name": ".venv_py3120_64",
   "language": "python",
   "name": "python3"
  },
  "language_info": {
   "codemirror_mode": {
    "name": "ipython",
    "version": 3
   },
   "file_extension": ".py",
   "mimetype": "text/x-python",
   "name": "python",
   "nbconvert_exporter": "python",
   "pygments_lexer": "ipython3",
   "version": "3.12.0"
  }
 },
 "nbformat": 4,
 "nbformat_minor": 2
}
