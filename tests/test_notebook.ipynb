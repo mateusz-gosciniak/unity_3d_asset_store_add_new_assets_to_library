{
 "cells": [
  {
   "cell_type": "markdown",
   "metadata": {},
   "source": [
    "Imports"
   ]
  },
  {
   "cell_type": "code",
   "execution_count": null,
   "metadata": {},
   "outputs": [],
   "source": [
    "# lib reloading\n",
    "%load_ext autoreload\n",
    "%reload_ext autoreload\n",
    "%autoreload 2\n",
    "\n",
    "# python standard packages\n",
    "import logging \n",
    "import os\n",
    "import sys\n",
    "import re\n",
    "import time\n",
    "from pathlib import Path\n",
    "\n",
    "# third-party packages\n",
    "import keyring\n",
    "from bs4 import BeautifulSoup\n",
    "\n",
    "from selenium.webdriver.common.by import By\n",
    "from selenium.webdriver.support.wait import WebDriverWait\n",
    "from selenium.webdriver.support import expected_conditions as EC\n",
    "from selenium.webdriver.common.action_chains import ActionChains\n",
    "from selenium.webdriver.common.keys import Keys\n",
    "\n",
    "# in project packages\n",
    "sys.path.append(str(Path(os.getcwd()).parent))  # add parent folder to paths\n",
    "from utilities.chrome_driver import ChromeDriver\n",
    "\n",
    "# logging configuration\n",
    "logging.basicConfig(level=logging.INFO, format='%(asctime)s - %(levelname)s - %(message)s')\n",
    "\n",
    "# project constants\n",
    "# TODO add all constants\n",
    "# TODO divide on classes and methods\n",
    "# TODO add short, medium, long timeouts\n",
    "ELEMENT_TIMEOUT = 2  # [s]\n",
    "\n",
    "# needed to be setup earlier\n",
    "# keyring.set_password(\"credential_name\", \"user_name\", \"password\")\n",
    "UNITY_CREDENTIALS = (\"unity_id_cred\", \"mateusz.gosciniak.dev@gmail.com\")"
   ]
  },
  {
   "cell_type": "markdown",
   "metadata": {},
   "source": [
    "Chrome Driver Initialization"
   ]
  },
  {
   "cell_type": "code",
   "execution_count": null,
   "metadata": {},
   "outputs": [],
   "source": [
    "chrome_driver = ChromeDriver().chrome_driver\n",
    "selenium_waiter = WebDriverWait(chrome_driver, timeout=ELEMENT_TIMEOUT)\n",
    "logging.info(\"Selenium Inited\")"
   ]
  },
  {
   "cell_type": "markdown",
   "metadata": {},
   "source": [
    "Asset Store Authentication"
   ]
  },
  {
   "cell_type": "code",
   "execution_count": null,
   "metadata": {},
   "outputs": [],
   "source": [
    "# open main page\n",
    "chrome_driver.get(\"https://assetstore.unity.com/\")\n",
    "logging.info(\"Asset Store open\")\n",
    "\n",
    "# accept cookies\n",
    "accept_all_cookies_btn = chrome_driver.find_element(By.ID, \"onetrust-accept-btn-handler\")\n",
    "selenium_waiter.until(EC.element_to_be_clickable(accept_all_cookies_btn))\n",
    "accept_all_cookies_btn.click()\n",
    "logging.info(\"Cookies accepted\")\n",
    "\n",
    "# open login page\n",
    "chrome_driver.get(\"https://assetstore.unity.com/auth/login?redirect_to=%2F\")\n",
    "login_page = chrome_driver.current_url\n",
    "logging.info(\"Login Page open\")\n",
    "\n",
    "# write email\n",
    "email_field = chrome_driver.find_element(By.ID, \"conversations_create_session_form_email\")\n",
    "selenium_waiter.until(EC.element_to_be_clickable(email_field))\n",
    "email_field.send_keys(UNITY_CREDENTIALS[1])\n",
    "logging.info(\"Email filled\")\n",
    "\n",
    "# write password\n",
    "password_field = chrome_driver.find_element(By.ID, \"conversations_create_session_form_password\")\n",
    "selenium_waiter.until(EC.element_to_be_clickable(password_field))\n",
    "password_field.send_keys(keyring.get_password(*UNITY_CREDENTIALS))\n",
    "logging.info(\"Password filled\")\n",
    "\n",
    "# click submit\n",
    "submit_btn = chrome_driver.find_element(By.XPATH, \"//input[@type='submit']\")\n",
    "selenium_waiter.until(EC.element_to_be_clickable(submit_btn))\n",
    "submit_btn.click()\n",
    "logging.info(\"Form Submited\")\n",
    "\n",
    "# check if proper page and credentials are ok\n",
    "page = chrome_driver.page_source\n",
    "page_soup = BeautifulSoup(page, \"html.parser\")\n",
    "unity_asset_store_desc = \"Unity Asset Store - The Best Assets\"\n",
    "if not unity_asset_store_desc in page_soup.text:\n",
    "    if chrome_driver.current_url == login_page:\n",
    "        raise Exception(\"Bad Credentials\")\n",
    "    else:\n",
    "        raise Exception(\"Wrong Page obtained after login, maybe 2FA enabled?\")\n",
    "logging.info(\"Asset Store authenticated\")"
   ]
  },
  {
   "cell_type": "markdown",
   "metadata": {},
   "source": [
    "Asset Store grab all assets from page "
   ]
  },
  {
   "cell_type": "code",
   "execution_count": null,
   "metadata": {},
   "outputs": [],
   "source": [
    "# TODO All logic should be placed in loop\n",
    "\n",
    "# go to asset store by adress url with query url\n",
    "chrome_driver.get(\"https://assetstore.unity.com/?free=true&exclude=true&orderBy=1\")\n",
    "logging.info(\"Asset Store filtered by free to download\")\n",
    "\n",
    "# Get how many results is on page\n",
    "results_div = chrome_driver.find_element(By.XPATH, \"//div[text()[contains(.,'results')]]\")\n",
    "results_text = results_div.text\n",
    "# Pattern to find 3 groups of numbers in string ex. 1-24 of 104 results\n",
    "regex_pattern = re.compile(r'(\\d+)-(\\d+) of (\\d+)')\n",
    "regex_match = regex_pattern.match(results_text)\n",
    "if not regex_match:\n",
    "    raise Exception(\"No assets to add\")\n",
    "\n",
    "if len(regex_match.groups()) != 3:\n",
    "    raise Exception(\"No assets to add\")\n",
    "\n",
    "# Geting last number as total amount of results\n",
    "avaiable_assets = int(regex_match.group(3))\n",
    "\n",
    "# Find table of assets\n",
    "asset_grid = chrome_driver.find_element(By.XPATH, \"//div[@data-test='asset-grid']/div\")\n",
    "selenium_waiter.until(EC.element_to_be_clickable(asset_grid))\n",
    "if not \"Add to My Assets\" in asset_grid.text:\n",
    "    raise Exception(\"No assets to add\")\n",
    "\n",
    "# Get assets as collections\n",
    "assets = asset_grid.find_elements(By.XPATH, \"./div\")\n",
    "if len(assets) == 0:\n",
    "    raise Exception(\"No assets to add\")\n",
    "\n",
    "logging.info(f\"Assets count: {avaiable_assets}, on this page is {len(assets)}\")\n",
    "\n",
    "# TODO Additional Check if only \"Request access\" assets avaiable\n",
    "for asset in assets:\n",
    "    logging.info(f\"Asset to add: {','.join(asset.text.split('\\n'))}\")\n",
    "    asset_btn_favorite, asset_btn_add = asset.find_elements(By.XPATH, \".//button[*]\")\n",
    "    \n",
    "    # if Open in Unity button appear\n",
    "    if asset_btn_add.text != \"Add to My Assets\":\n",
    "        continue\n",
    "\n",
    "    asset_btn_add.click()\n",
    "    logging.info(f\"Add asset clicked\")\n",
    "    time.sleep(1)\n",
    "\n",
    "    accept_btn = chrome_driver.find_element(By.XPATH, \"//button[@label='Accept']\")\n",
    "    selenium_waiter.until(EC.element_to_be_clickable(accept_btn))\n",
    "    accept_btn.click()\n",
    "    logging.info(f\"Accept button clicked\")\n",
    "    # TODO wait longer for element\n",
    "    time.sleep(6)\n",
    "\n",
    "    # Added to My Assets Popup check \n",
    "    added_popup = chrome_driver.find_element(By.XPATH, \"//div[text()[contains(.,'Added to My Assets')]]\")\n",
    "    selenium_waiter.until(EC.element_to_be_clickable(added_popup))\n",
    "    logging.info(f\"Added to My Assets Popup appear\")\n",
    "    time.sleep(1)\n",
    "\n",
    "    # close popup by sending Escape key\n",
    "    ActionChains(chrome_driver).send_keys(Keys.ESCAPE).perform()\n",
    "    logging.info(f\"Send ESC to close popup\")\n",
    "    \n",
    "logging.info(f\"Page finished - refreshing\")"
   ]
  },
  {
   "cell_type": "markdown",
   "metadata": {},
   "source": [
    "Close Chrome"
   ]
  },
  {
   "cell_type": "code",
   "execution_count": 229,
   "metadata": {},
   "outputs": [],
   "source": [
    "chrome_driver.quit()"
   ]
  }
 ],
 "metadata": {
  "kernelspec": {
   "display_name": ".venv_py3120_64",
   "language": "python",
   "name": "python3"
  },
  "language_info": {
   "codemirror_mode": {
    "name": "ipython",
    "version": 3
   },
   "file_extension": ".py",
   "mimetype": "text/x-python",
   "name": "python",
   "nbconvert_exporter": "python",
   "pygments_lexer": "ipython3",
   "version": "3.12.0"
  }
 },
 "nbformat": 4,
 "nbformat_minor": 2
}
